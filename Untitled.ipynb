{
 "cells": [
  {
   "cell_type": "code",
   "execution_count": 1,
   "metadata": {},
   "outputs": [],
   "source": [
    "import torch\n",
    "from torch.autograd import Variable\n",
    "from torchvision import transforms"
   ]
  },
  {
   "cell_type": "code",
   "execution_count": 2,
   "metadata": {},
   "outputs": [],
   "source": [
    "content_image_path='./images/dog.jpg'\n",
    "style_image_path='./images/style3.jpg'\n",
    "import PIL.Image as Image"
   ]
  },
  {
   "cell_type": "code",
   "execution_count": 3,
   "metadata": {},
   "outputs": [],
   "source": [
    "img1=Image.open(content_image_path).convert('RGB')"
   ]
  },
  {
   "cell_type": "code",
   "execution_count": 4,
   "metadata": {},
   "outputs": [],
   "source": [
    "img2=Image.open(style_image_path).convert('RGB')"
   ]
  },
  {
   "cell_type": "code",
   "execution_count": 5,
   "metadata": {},
   "outputs": [
    {
     "name": "stdout",
     "output_type": "stream",
     "text": [
      "(224, 224)\n"
     ]
    }
   ],
   "source": [
    "print(img1.size)"
   ]
  },
  {
   "cell_type": "code",
   "execution_count": 6,
   "metadata": {},
   "outputs": [
    {
     "ename": "ValueError",
     "evalue": "unknown resampling filter",
     "output_type": "error",
     "traceback": [
      "\u001b[0;31m---------------------------------------------------------------------------\u001b[0m",
      "\u001b[0;31mValueError\u001b[0m                                Traceback (most recent call last)",
      "\u001b[0;32m<ipython-input-6-b26c74dbcb46>\u001b[0m in \u001b[0;36m<module>\u001b[0;34m()\u001b[0m\n\u001b[0;32m----> 1\u001b[0;31m \u001b[0mimg1_1\u001b[0m\u001b[0;34m=\u001b[0m\u001b[0mimg1\u001b[0m\u001b[0;34m.\u001b[0m\u001b[0mresize\u001b[0m\u001b[0;34m(\u001b[0m\u001b[0;36m512\u001b[0m\u001b[0;34m,\u001b[0m\u001b[0;36m512\u001b[0m\u001b[0;34m)\u001b[0m\u001b[0;34m\u001b[0m\u001b[0m\n\u001b[0m\u001b[1;32m      2\u001b[0m \u001b[0mprint\u001b[0m\u001b[0;34m(\u001b[0m\u001b[0mimg1_1\u001b[0m\u001b[0;34m.\u001b[0m\u001b[0msize\u001b[0m\u001b[0;34m)\u001b[0m\u001b[0;34m\u001b[0m\u001b[0m\n",
      "\u001b[0;32m/Applications/anaconda3/envs/nlu_deeplearning/lib/python3.6/site-packages/PIL/Image.py\u001b[0m in \u001b[0;36mresize\u001b[0;34m(self, size, resample, box)\u001b[0m\n\u001b[1;32m   1722\u001b[0m                 \u001b[0mNEAREST\u001b[0m\u001b[0;34m,\u001b[0m \u001b[0mBILINEAR\u001b[0m\u001b[0;34m,\u001b[0m \u001b[0mBICUBIC\u001b[0m\u001b[0;34m,\u001b[0m \u001b[0mLANCZOS\u001b[0m\u001b[0;34m,\u001b[0m \u001b[0mBOX\u001b[0m\u001b[0;34m,\u001b[0m \u001b[0mHAMMING\u001b[0m\u001b[0;34m,\u001b[0m\u001b[0;34m\u001b[0m\u001b[0m\n\u001b[1;32m   1723\u001b[0m         ):\n\u001b[0;32m-> 1724\u001b[0;31m             \u001b[0;32mraise\u001b[0m \u001b[0mValueError\u001b[0m\u001b[0;34m(\u001b[0m\u001b[0;34m\"unknown resampling filter\"\u001b[0m\u001b[0;34m)\u001b[0m\u001b[0;34m\u001b[0m\u001b[0m\n\u001b[0m\u001b[1;32m   1725\u001b[0m \u001b[0;34m\u001b[0m\u001b[0m\n\u001b[1;32m   1726\u001b[0m         \u001b[0msize\u001b[0m \u001b[0;34m=\u001b[0m \u001b[0mtuple\u001b[0m\u001b[0;34m(\u001b[0m\u001b[0msize\u001b[0m\u001b[0;34m)\u001b[0m\u001b[0;34m\u001b[0m\u001b[0m\n",
      "\u001b[0;31mValueError\u001b[0m: unknown resampling filter"
     ]
    }
   ],
   "source": [
    "img1_1=img1.resize(512,512)\n",
    "print(img1_1.size)"
   ]
  },
  {
   "cell_type": "code",
   "execution_count": 8,
   "metadata": {},
   "outputs": [
    {
     "name": "stdout",
     "output_type": "stream",
     "text": [
      "<PIL.Image.Image image mode=RGB size=512x512 at 0x10E486588>\n"
     ]
    }
   ],
   "source": [
    "img1_1=img1.resize((512,512))\n",
    "print(img1_1)"
   ]
  },
  {
   "cell_type": "code",
   "execution_count": 9,
   "metadata": {},
   "outputs": [],
   "source": [
    "img1=transforms.ToTensor()(img1_1)"
   ]
  },
  {
   "cell_type": "code",
   "execution_count": 10,
   "metadata": {},
   "outputs": [
    {
     "data": {
      "text/plain": [
       "\n",
       "( 0 ,.,.) = \n",
       "  0.0980  0.0980  0.0980  ...   0.1373  0.1373  0.1373\n",
       "  0.0980  0.0980  0.0980  ...   0.1373  0.1373  0.1373\n",
       "  0.0471  0.0471  0.0510  ...   0.1020  0.0980  0.0980\n",
       "           ...             ⋱             ...          \n",
       "  0.1176  0.1176  0.1451  ...   0.0157  0.1059  0.1059\n",
       "  0.1765  0.1765  0.1451  ...   0.0588  0.2353  0.2353\n",
       "  0.1765  0.1765  0.1451  ...   0.0588  0.2353  0.2353\n",
       "\n",
       "( 1 ,.,.) = \n",
       "  0.0863  0.0863  0.0863  ...   0.1176  0.1176  0.1176\n",
       "  0.0863  0.0863  0.0863  ...   0.1176  0.1176  0.1176\n",
       "  0.0275  0.0275  0.0314  ...   0.0745  0.0784  0.0784\n",
       "           ...             ⋱             ...          \n",
       "  0.0863  0.0863  0.1451  ...   0.0196  0.0275  0.0275\n",
       "  0.1529  0.1529  0.1373  ...   0.0549  0.0863  0.0863\n",
       "  0.1529  0.1529  0.1373  ...   0.0549  0.0863  0.0863\n",
       "\n",
       "( 2 ,.,.) = \n",
       "  0.0588  0.0588  0.0588  ...   0.0431  0.0431  0.0431\n",
       "  0.0588  0.0588  0.0588  ...   0.0431  0.0431  0.0431\n",
       "  0.0039  0.0039  0.0157  ...   0.0039  0.0039  0.0039\n",
       "           ...             ⋱             ...          \n",
       "  0.0353  0.0353  0.0510  ...   0.0275  0.0353  0.0353\n",
       "  0.0667  0.0667  0.0784  ...   0.0392  0.0824  0.0824\n",
       "  0.0667  0.0667  0.0784  ...   0.0392  0.0824  0.0824\n",
       "[torch.FloatTensor of size 3x512x512]"
      ]
     },
     "execution_count": 10,
     "metadata": {},
     "output_type": "execute_result"
    }
   ],
   "source": [
    "img1"
   ]
  },
  {
   "cell_type": "code",
   "execution_count": 11,
   "metadata": {},
   "outputs": [
    {
     "data": {
      "text/plain": [
       "<function FloatTensor.size>"
      ]
     },
     "execution_count": 11,
     "metadata": {},
     "output_type": "execute_result"
    }
   ],
   "source": [
    "img1.size"
   ]
  },
  {
   "cell_type": "code",
   "execution_count": 12,
   "metadata": {},
   "outputs": [
    {
     "name": "stdout",
     "output_type": "stream",
     "text": [
      "<built-in method size of torch.FloatTensor object at 0x10e488308>\n"
     ]
    }
   ],
   "source": [
    "print(img1.size)"
   ]
  },
  {
   "cell_type": "code",
   "execution_count": 13,
   "metadata": {},
   "outputs": [
    {
     "name": "stdout",
     "output_type": "stream",
     "text": [
      "\n",
      "( 0 , 0 ,.,.) = \n",
      "  0.0980  0.0980  0.0980  ...   0.1373  0.1373  0.1373\n",
      "  0.0980  0.0980  0.0980  ...   0.1373  0.1373  0.1373\n",
      "  0.0471  0.0471  0.0510  ...   0.1020  0.0980  0.0980\n",
      "           ...             ⋱             ...          \n",
      "  0.1176  0.1176  0.1451  ...   0.0157  0.1059  0.1059\n",
      "  0.1765  0.1765  0.1451  ...   0.0588  0.2353  0.2353\n",
      "  0.1765  0.1765  0.1451  ...   0.0588  0.2353  0.2353\n",
      "\n",
      "( 0 , 1 ,.,.) = \n",
      "  0.0863  0.0863  0.0863  ...   0.1176  0.1176  0.1176\n",
      "  0.0863  0.0863  0.0863  ...   0.1176  0.1176  0.1176\n",
      "  0.0275  0.0275  0.0314  ...   0.0745  0.0784  0.0784\n",
      "           ...             ⋱             ...          \n",
      "  0.0863  0.0863  0.1451  ...   0.0196  0.0275  0.0275\n",
      "  0.1529  0.1529  0.1373  ...   0.0549  0.0863  0.0863\n",
      "  0.1529  0.1529  0.1373  ...   0.0549  0.0863  0.0863\n",
      "\n",
      "( 0 , 2 ,.,.) = \n",
      "  0.0588  0.0588  0.0588  ...   0.0431  0.0431  0.0431\n",
      "  0.0588  0.0588  0.0588  ...   0.0431  0.0431  0.0431\n",
      "  0.0039  0.0039  0.0157  ...   0.0039  0.0039  0.0039\n",
      "           ...             ⋱             ...          \n",
      "  0.0353  0.0353  0.0510  ...   0.0275  0.0353  0.0353\n",
      "  0.0667  0.0667  0.0784  ...   0.0392  0.0824  0.0824\n",
      "  0.0667  0.0667  0.0784  ...   0.0392  0.0824  0.0824\n",
      "[torch.FloatTensor of size 1x3x512x512]\n",
      "\n"
     ]
    }
   ],
   "source": [
    "img1=img1.unsqueeze(0)\n",
    "print(img1)"
   ]
  },
  {
   "cell_type": "code",
   "execution_count": 14,
   "metadata": {},
   "outputs": [],
   "source": [
    "img2=img2.resize((512,512))\n",
    "img2=transforms.ToTensor()(img2)\n",
    "img2=img2.unsqueeze(0)"
   ]
  },
  {
   "cell_type": "code",
   "execution_count": 15,
   "metadata": {},
   "outputs": [
    {
     "data": {
      "text/plain": [
       "\n",
       "( 0 , 0 ,.,.) = \n",
       "  0.0980  0.0980  0.0980  ...   0.1373  0.1373  0.1373\n",
       "  0.0980  0.0980  0.0980  ...   0.1373  0.1373  0.1373\n",
       "  0.0471  0.0471  0.0510  ...   0.1020  0.0980  0.0980\n",
       "           ...             ⋱             ...          \n",
       "  0.1176  0.1176  0.1451  ...   0.0157  0.1059  0.1059\n",
       "  0.1765  0.1765  0.1451  ...   0.0588  0.2353  0.2353\n",
       "  0.1765  0.1765  0.1451  ...   0.0588  0.2353  0.2353\n",
       "\n",
       "( 0 , 1 ,.,.) = \n",
       "  0.0863  0.0863  0.0863  ...   0.1176  0.1176  0.1176\n",
       "  0.0863  0.0863  0.0863  ...   0.1176  0.1176  0.1176\n",
       "  0.0275  0.0275  0.0314  ...   0.0745  0.0784  0.0784\n",
       "           ...             ⋱             ...          \n",
       "  0.0863  0.0863  0.1451  ...   0.0196  0.0275  0.0275\n",
       "  0.1529  0.1529  0.1373  ...   0.0549  0.0863  0.0863\n",
       "  0.1529  0.1529  0.1373  ...   0.0549  0.0863  0.0863\n",
       "\n",
       "( 0 , 2 ,.,.) = \n",
       "  0.0588  0.0588  0.0588  ...   0.0431  0.0431  0.0431\n",
       "  0.0588  0.0588  0.0588  ...   0.0431  0.0431  0.0431\n",
       "  0.0039  0.0039  0.0157  ...   0.0039  0.0039  0.0039\n",
       "           ...             ⋱             ...          \n",
       "  0.0353  0.0353  0.0510  ...   0.0275  0.0353  0.0353\n",
       "  0.0667  0.0667  0.0784  ...   0.0392  0.0824  0.0824\n",
       "  0.0667  0.0667  0.0784  ...   0.0392  0.0824  0.0824\n",
       "[torch.FloatTensor of size 1x3x512x512]"
      ]
     },
     "execution_count": 15,
     "metadata": {},
     "output_type": "execute_result"
    }
   ],
   "source": [
    "img1"
   ]
  },
  {
   "cell_type": "code",
   "execution_count": 16,
   "metadata": {},
   "outputs": [],
   "source": [
    "img1=Variable(img1)\n",
    "img2=Variable(img2)"
   ]
  },
  {
   "cell_type": "code",
   "execution_count": 17,
   "metadata": {},
   "outputs": [
    {
     "data": {
      "text/plain": [
       "Variable containing:\n",
       "( 0 , 0 ,.,.) = \n",
       "  0.0980  0.0980  0.0980  ...   0.1373  0.1373  0.1373\n",
       "  0.0980  0.0980  0.0980  ...   0.1373  0.1373  0.1373\n",
       "  0.0471  0.0471  0.0510  ...   0.1020  0.0980  0.0980\n",
       "           ...             ⋱             ...          \n",
       "  0.1176  0.1176  0.1451  ...   0.0157  0.1059  0.1059\n",
       "  0.1765  0.1765  0.1451  ...   0.0588  0.2353  0.2353\n",
       "  0.1765  0.1765  0.1451  ...   0.0588  0.2353  0.2353\n",
       "\n",
       "( 0 , 1 ,.,.) = \n",
       "  0.0863  0.0863  0.0863  ...   0.1176  0.1176  0.1176\n",
       "  0.0863  0.0863  0.0863  ...   0.1176  0.1176  0.1176\n",
       "  0.0275  0.0275  0.0314  ...   0.0745  0.0784  0.0784\n",
       "           ...             ⋱             ...          \n",
       "  0.0863  0.0863  0.1451  ...   0.0196  0.0275  0.0275\n",
       "  0.1529  0.1529  0.1373  ...   0.0549  0.0863  0.0863\n",
       "  0.1529  0.1529  0.1373  ...   0.0549  0.0863  0.0863\n",
       "\n",
       "( 0 , 2 ,.,.) = \n",
       "  0.0588  0.0588  0.0588  ...   0.0431  0.0431  0.0431\n",
       "  0.0588  0.0588  0.0588  ...   0.0431  0.0431  0.0431\n",
       "  0.0039  0.0039  0.0157  ...   0.0039  0.0039  0.0039\n",
       "           ...             ⋱             ...          \n",
       "  0.0353  0.0353  0.0510  ...   0.0275  0.0353  0.0353\n",
       "  0.0667  0.0667  0.0784  ...   0.0392  0.0824  0.0824\n",
       "  0.0667  0.0667  0.0784  ...   0.0392  0.0824  0.0824\n",
       "[torch.FloatTensor of size 1x3x512x512]"
      ]
     },
     "execution_count": 17,
     "metadata": {},
     "output_type": "execute_result"
    }
   ],
   "source": [
    "img1"
   ]
  },
  {
   "cell_type": "code",
   "execution_count": 18,
   "metadata": {},
   "outputs": [],
   "source": [
    "img3=img1.clone()"
   ]
  },
  {
   "cell_type": "code",
   "execution_count": 19,
   "metadata": {},
   "outputs": [],
   "source": [
    "import torch.nn as nn"
   ]
  },
  {
   "cell_type": "code",
   "execution_count": 20,
   "metadata": {},
   "outputs": [
    {
     "data": {
      "text/plain": [
       "<module 'torch.nn' from '/Applications/anaconda3/envs/nlu_deeplearning/lib/python3.6/site-packages/torch/nn/__init__.py'>"
      ]
     },
     "execution_count": 20,
     "metadata": {},
     "output_type": "execute_result"
    }
   ],
   "source": [
    "nn"
   ]
  },
  {
   "cell_type": "code",
   "execution_count": 21,
   "metadata": {},
   "outputs": [
    {
     "data": {
      "text/plain": [
       "torch.nn.modules.conv.Conv2d"
      ]
     },
     "execution_count": 21,
     "metadata": {},
     "output_type": "execute_result"
    }
   ],
   "source": [
    "nn.Conv2d"
   ]
  },
  {
   "cell_type": "code",
   "execution_count": 22,
   "metadata": {},
   "outputs": [
    {
     "name": "stdout",
     "output_type": "stream",
     "text": [
      "<class 'torch.nn.modules.conv.Conv2d'>\n"
     ]
    }
   ],
   "source": [
    "print(nn.Conv2d)"
   ]
  },
  {
   "cell_type": "code",
   "execution_count": null,
   "metadata": {},
   "outputs": [],
   "source": []
  }
 ],
 "metadata": {
  "kernelspec": {
   "display_name": "Python 3",
   "language": "python",
   "name": "python3"
  },
  "language_info": {
   "codemirror_mode": {
    "name": "ipython",
    "version": 3
   },
   "file_extension": ".py",
   "mimetype": "text/x-python",
   "name": "python",
   "nbconvert_exporter": "python",
   "pygments_lexer": "ipython3",
   "version": "3.6.4"
  }
 },
 "nbformat": 4,
 "nbformat_minor": 2
}
